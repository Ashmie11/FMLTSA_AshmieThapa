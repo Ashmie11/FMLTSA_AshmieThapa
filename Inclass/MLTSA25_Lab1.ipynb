{
  "nbformat": 4,
  "nbformat_minor": 0,
  "metadata": {
    "colab": {
      "provenance": [],
      "authorship_tag": "ABX9TyM9xJdOhvkdSLnnss/uLJYu",
      "include_colab_link": true
    },
    "kernelspec": {
      "name": "python3",
      "display_name": "Python 3"
    },
    "language_info": {
      "name": "python"
    }
  },
  "cells": [
    {
      "cell_type": "markdown",
      "metadata": {
        "id": "view-in-github",
        "colab_type": "text"
      },
      "source": [
        "<a href=\"https://colab.research.google.com/github/Ashmie11/MLTSA25_AshmieThapa/blob/main/Inclass/MLTSA25_Lab1.ipynb\" target=\"_parent\"><img src=\"https://colab.research.google.com/assets/colab-badge.svg\" alt=\"Open In Colab\"/></a>"
      ]
    },
    {
      "cell_type": "code",
      "execution_count": null,
      "metadata": {
        "id": "WEZXI_mThXQO"
      },
      "outputs": [],
      "source": [
        "my_str = \"hello\"\n"
      ]
    },
    {
      "cell_type": "code",
      "source": [
        "\n",
        "print(my_str)"
      ],
      "metadata": {
        "colab": {
          "base_uri": "https://localhost:8080/"
        },
        "id": "lolgwrPkiBh0",
        "outputId": "54b7d8c4-a2a3-458e-d19a-873570ae1af4"
      },
      "execution_count": 34,
      "outputs": [
        {
          "output_type": "stream",
          "name": "stdout",
          "text": [
            "hello\n"
          ]
        }
      ]
    },
    {
      "cell_type": "code",
      "source": [
        "my_int=36"
      ],
      "metadata": {
        "id": "pD4yitXKigr6"
      },
      "execution_count": null,
      "outputs": []
    },
    {
      "cell_type": "code",
      "source": [
        "my_float=36,"
      ],
      "metadata": {
        "id": "2rNaJAmiiqGL"
      },
      "execution_count": null,
      "outputs": []
    },
    {
      "cell_type": "code",
      "source": [
        "\n",
        "print(my_float)"
      ],
      "metadata": {
        "colab": {
          "base_uri": "https://localhost:8080/"
        },
        "id": "VhVLEgs4ivSR",
        "outputId": "c43281fb-f7ac-4200-efa1-b43847d41f4c"
      },
      "execution_count": 8,
      "outputs": [
        {
          "output_type": "stream",
          "name": "stdout",
          "text": [
            "36.0\n"
          ]
        }
      ]
    },
    {
      "cell_type": "code",
      "source": [
        "my_int+ my_float"
      ],
      "metadata": {
        "id": "oAMahBz6jFev"
      },
      "execution_count": null,
      "outputs": []
    },
    {
      "cell_type": "code",
      "source": [
        "my_int* my_str"
      ],
      "metadata": {
        "id": "rIMJ7iqMjOZq"
      },
      "execution_count": null,
      "outputs": []
    },
    {
      "cell_type": "code",
      "source": [
        "helloworld= \"Hello\" + \"World!\""
      ],
      "metadata": {
        "id": "s3a6dunojUGo"
      },
      "execution_count": null,
      "outputs": []
    },
    {
      "cell_type": "code",
      "source": [
        "import numpy as np"
      ],
      "metadata": {
        "id": "OupIyU6Mjtdw"
      },
      "execution_count": null,
      "outputs": []
    },
    {
      "cell_type": "code",
      "source": [
        "my_nparr = np.array([1, 2, 3, 4, 5])\n"
      ],
      "metadata": {
        "id": "7IC_GOx0j8R3"
      },
      "execution_count": 33,
      "outputs": []
    },
    {
      "cell_type": "code",
      "source": [
        "my_bool=True"
      ],
      "metadata": {
        "id": "XqiKfBZlkNcg"
      },
      "execution_count": null,
      "outputs": []
    },
    {
      "cell_type": "code",
      "source": [
        "my_int=1"
      ],
      "metadata": {
        "id": "w7i8Ik-skeHG"
      },
      "execution_count": 9,
      "outputs": []
    },
    {
      "cell_type": "code",
      "source": [
        "my_int!=6"
      ],
      "metadata": {
        "colab": {
          "base_uri": "https://localhost:8080/"
        },
        "id": "9hospt5akyHY",
        "outputId": "3bab646a-7193-4db0-b514-ad4582ea593b"
      },
      "execution_count": 10,
      "outputs": [
        {
          "output_type": "execute_result",
          "data": {
            "text/plain": [
              "True"
            ]
          },
          "metadata": {},
          "execution_count": 10
        }
      ]
    },
    {
      "cell_type": "code",
      "source": [
        "my_int = 10\n",
        "\n",
        "if my_int != 6:\n",
        "    print(\"my_int is not 6\")\n",
        "else:\n",
        "    print(\"It was 6!!\")\n",
        "\n"
      ],
      "metadata": {
        "colab": {
          "base_uri": "https://localhost:8080/"
        },
        "id": "EhIhIL4pk2CQ",
        "outputId": "04645a13-1b15-414f-d5f4-1a4f1cd357d9"
      },
      "execution_count": 11,
      "outputs": [
        {
          "output_type": "stream",
          "name": "stdout",
          "text": [
            "my_int is not 6\n"
          ]
        }
      ]
    },
    {
      "cell_type": "code",
      "source": [
        "type(my_int)"
      ],
      "metadata": {
        "colab": {
          "base_uri": "https://localhost:8080/"
        },
        "id": "HbIx4DJQlYA5",
        "outputId": "76116881-d726-4759-f97f-cedcef75cb0d"
      },
      "execution_count": 12,
      "outputs": [
        {
          "output_type": "execute_result",
          "data": {
            "text/plain": [
              "int"
            ]
          },
          "metadata": {},
          "execution_count": 12
        }
      ]
    },
    {
      "cell_type": "code",
      "source": [
        "\n",
        "\n",
        "my_nparr = np.array([1, 2, 3, 4, 5])\n"
      ],
      "metadata": {
        "colab": {
          "base_uri": "https://localhost:8080/"
        },
        "id": "q67guHR-lbh3",
        "outputId": "0e319e8a-b883-466c-d620-6266fb04e088"
      },
      "execution_count": 22,
      "outputs": [
        {
          "output_type": "stream",
          "name": "stdout",
          "text": [
            "int64\n"
          ]
        }
      ]
    },
    {
      "cell_type": "code",
      "source": [
        "print(my_nparr.dtype)"
      ],
      "metadata": {
        "colab": {
          "base_uri": "https://localhost:8080/"
        },
        "id": "PoKt6vccnc-4",
        "outputId": "633ad3b6-d24a-4817-8f74-eb7a984f4134"
      },
      "execution_count": 31,
      "outputs": [
        {
          "output_type": "stream",
          "name": "stdout",
          "text": [
            "int64\n"
          ]
        }
      ]
    },
    {
      "cell_type": "code",
      "source": [
        "my_nparr.max()"
      ],
      "metadata": {
        "id": "1yv5gk_0ly0N"
      },
      "execution_count": null,
      "outputs": []
    },
    {
      "cell_type": "code",
      "source": [
        "my_nparr.argmax()"
      ],
      "metadata": {
        "id": "inVTflw2l-kZ"
      },
      "execution_count": null,
      "outputs": []
    },
    {
      "cell_type": "code",
      "source": [
        "my_nparr[0]"
      ],
      "metadata": {
        "colab": {
          "base_uri": "https://localhost:8080/"
        },
        "id": "QPC5_p2OmCwF",
        "outputId": "ec81acf7-037a-424c-9aea-bc9f6447bbe6"
      },
      "execution_count": 23,
      "outputs": [
        {
          "output_type": "execute_result",
          "data": {
            "text/plain": [
              "1"
            ]
          },
          "metadata": {},
          "execution_count": 23
        }
      ]
    },
    {
      "cell_type": "code",
      "source": [
        "my_nparr[2]"
      ],
      "metadata": {
        "colab": {
          "base_uri": "https://localhost:8080/"
        },
        "id": "8sIuDAVZmhq8",
        "outputId": "fbdf28d9-2186-4f80-d494-66116a124cf0"
      },
      "execution_count": 24,
      "outputs": [
        {
          "output_type": "execute_result",
          "data": {
            "text/plain": [
              "3"
            ]
          },
          "metadata": {},
          "execution_count": 24
        }
      ]
    },
    {
      "cell_type": "code",
      "source": [
        "my_nparr[-1]"
      ],
      "metadata": {
        "colab": {
          "base_uri": "https://localhost:8080/"
        },
        "id": "PXrFI6iJmlk7",
        "outputId": "12830276-1ad4-49cb-bcb2-68cbfb89e3df"
      },
      "execution_count": 25,
      "outputs": [
        {
          "output_type": "execute_result",
          "data": {
            "text/plain": [
              "5"
            ]
          },
          "metadata": {},
          "execution_count": 25
        }
      ]
    },
    {
      "cell_type": "code",
      "source": [
        "my_nparr[1:]"
      ],
      "metadata": {
        "colab": {
          "base_uri": "https://localhost:8080/"
        },
        "id": "gjeefyVimpTO",
        "outputId": "9bc69628-6936-4744-9392-69987803a647"
      },
      "execution_count": 26,
      "outputs": [
        {
          "output_type": "execute_result",
          "data": {
            "text/plain": [
              "array([2, 3, 4, 5])"
            ]
          },
          "metadata": {},
          "execution_count": 26
        }
      ]
    },
    {
      "cell_type": "code",
      "source": [
        "my_nparr[1:2]"
      ],
      "metadata": {
        "colab": {
          "base_uri": "https://localhost:8080/"
        },
        "id": "QRxu9msBmsLA",
        "outputId": "12480e2f-5fe4-4216-8df3-be0992b059ae"
      },
      "execution_count": 27,
      "outputs": [
        {
          "output_type": "execute_result",
          "data": {
            "text/plain": [
              "array([2])"
            ]
          },
          "metadata": {},
          "execution_count": 27
        }
      ]
    },
    {
      "cell_type": "code",
      "source": [
        "my_nparr[1:3]"
      ],
      "metadata": {
        "id": "voQw9swrmuRZ"
      },
      "execution_count": null,
      "outputs": []
    },
    {
      "cell_type": "code",
      "source": [
        "list(range(1,4))"
      ],
      "metadata": {
        "colab": {
          "base_uri": "https://localhost:8080/"
        },
        "id": "lAwr36unm_aZ",
        "outputId": "5917dabc-04f0-4f38-c509-d97645e52432"
      },
      "execution_count": 28,
      "outputs": [
        {
          "output_type": "execute_result",
          "data": {
            "text/plain": [
              "[1, 2, 3]"
            ]
          },
          "metadata": {},
          "execution_count": 28
        }
      ]
    },
    {
      "cell_type": "code",
      "source": [
        "\n",
        "for a in range(1, 4):\n",
        "  print(sum(np.arange(0, a)))"
      ],
      "metadata": {
        "colab": {
          "base_uri": "https://localhost:8080/"
        },
        "id": "_9ENoRWRnES9",
        "outputId": "de653940-6c11-446a-ce06-ecd52313c052"
      },
      "execution_count": 40,
      "outputs": [
        {
          "output_type": "stream",
          "name": "stdout",
          "text": [
            "0\n",
            "1\n",
            "3\n"
          ]
        }
      ]
    },
    {
      "cell_type": "code",
      "source": [
        "for a in range(1, 4):\n",
        "  print(a,np.arange(0,a).sum())"
      ],
      "metadata": {
        "colab": {
          "base_uri": "https://localhost:8080/"
        },
        "id": "5E9qcBVyoWEx",
        "outputId": "25eac95e-5af6-4590-f768-58b200573b56"
      },
      "execution_count": 43,
      "outputs": [
        {
          "output_type": "stream",
          "name": "stdout",
          "text": [
            "1 0\n",
            "2 1\n",
            "3 3\n"
          ]
        }
      ]
    },
    {
      "cell_type": "code",
      "source": [
        "np.arange(0, a)"
      ],
      "metadata": {
        "colab": {
          "base_uri": "https://localhost:8080/"
        },
        "id": "vNbb97EknhJM",
        "outputId": "988c6bf0-624c-47b9-b4d1-0ccfdd8143bd"
      },
      "execution_count": 38,
      "outputs": [
        {
          "output_type": "execute_result",
          "data": {
            "text/plain": [
              "array([0, 1, 2])"
            ]
          },
          "metadata": {},
          "execution_count": 38
        }
      ]
    },
    {
      "cell_type": "code",
      "source": [
        "def all_odds(lastn):\n",
        "    \"\"\"\n",
        "    Returns a list of odd numbers up to lastn (inclusive).\n",
        "\n",
        "    Parameters:\n",
        "        lastn (int): The last number in the range.\n",
        "\n",
        "    Returns:\n",
        "        list: A list of odd numbers.\n",
        "    \"\"\"\n",
        "    if not isinstance(lastn, int) or lastn < 1:\n",
        "        raise ValueError(\"Input must be a positive integer.\")\n",
        "\n",
        "    odds = list(range(1, lastn + 1, 2))\n",
        "    print(f\"Odd numbers up to {lastn}: {odds}\")\n",
        "    return odds\n"
      ],
      "metadata": {
        "id": "cndHaQJNqnh1"
      },
      "execution_count": 53,
      "outputs": []
    },
    {
      "cell_type": "code",
      "source": [
        "result = all_odds(10)\n"
      ],
      "metadata": {
        "colab": {
          "base_uri": "https://localhost:8080/"
        },
        "id": "4LoKg72dp9yI",
        "outputId": "0c7d71ed-0231-431f-a0c2-9a02e8c69d3d"
      },
      "execution_count": 55,
      "outputs": [
        {
          "output_type": "stream",
          "name": "stdout",
          "text": [
            "Odd numbers up to 10: [1, 3, 5, 7, 9]\n"
          ]
        }
      ]
    },
    {
      "cell_type": "code",
      "source": [
        "def is_palindrome(word):\n",
        "    \"\"\"\n",
        "    Checks if the input word is a palindrome.\n",
        "\n",
        "    Parameters:\n",
        "        word (str): The word to check.\n",
        "\n",
        "    Returns:\n",
        "        bool: True if the word is a palindrome, False otherwise.\n",
        "    \"\"\"\n",
        "    if not isinstance(word, str):  # Check if the input is a string\n",
        "        print(\"Error: The input is not a string.\")\n",
        "        return False\n",
        "\n",
        "    word = word.lower()  # Convert to lowercase for case-insensitivity\n",
        "    return word == word[::-1]  # Compare the word with its reverse"
      ],
      "metadata": {
        "id": "BFgUeqTvr_G_"
      },
      "execution_count": 64,
      "outputs": []
    },
    {
      "cell_type": "code",
      "source": [
        "print(is_palindrome(\"madam\"))\n",
        "print(is_palindrome(\"hello\"))\n",
        "print(is_palindrome(\"Racecar\"))\n",
        "print(is_palindrome(12345))"
      ],
      "metadata": {
        "colab": {
          "base_uri": "https://localhost:8080/"
        },
        "id": "RajDwkdVsDbC",
        "outputId": "d5684081-e972-4b7a-ea11-49b337276642"
      },
      "execution_count": 65,
      "outputs": [
        {
          "output_type": "stream",
          "name": "stdout",
          "text": [
            "True\n",
            "False\n",
            "True\n",
            "Error: The input is not a string.\n",
            "False\n"
          ]
        }
      ]
    },
    {
      "cell_type": "code",
      "source": [
        "def ispalindrome(s):\n",
        " \"checks if a string is a palindrome\"\n",
        "  #if type(s)!= str:\n",
        "   #print(\"is not a string\")\n",
        " assert type(s) == str, \"is not a string\"\n",
        " if s.lower() == s[::-1].lower():\n",
        "   return True\n",
        " return False\n",
        "\n",
        "ispalindrome(\"tacocat\")\n",
        "\n",
        "\n"
      ],
      "metadata": {
        "colab": {
          "base_uri": "https://localhost:8080/"
        },
        "id": "TcyKcxpEsN6f",
        "outputId": "7b09ad85-a602-4d61-cdfd-2903b4e74fa1"
      },
      "execution_count": 68,
      "outputs": [
        {
          "output_type": "execute_result",
          "data": {
            "text/plain": [
              "True"
            ]
          },
          "metadata": {},
          "execution_count": 68
        }
      ]
    },
    {
      "cell_type": "code",
      "source": [
        "s= \"palindrome\"\n",
        "s[::-1]\n"
      ],
      "metadata": {
        "colab": {
          "base_uri": "https://localhost:8080/",
          "height": 36
        },
        "id": "I9lsGE9tuWRS",
        "outputId": "3117d0a1-437e-426e-ce74-d5d698d51eb6"
      },
      "execution_count": 67,
      "outputs": [
        {
          "output_type": "execute_result",
          "data": {
            "text/plain": [
              "'emordnilap'"
            ],
            "application/vnd.google.colaboratory.intrinsic+json": {
              "type": "string"
            }
          },
          "metadata": {},
          "execution_count": 67
        }
      ]
    }
  ]
}